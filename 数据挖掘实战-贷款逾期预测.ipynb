{
 "cells": [
  {
   "cell_type": "code",
   "execution_count": 1,
   "metadata": {},
   "outputs": [],
   "source": [
    "import numpy as np\n",
    "import pandas as pd\n",
    "\n"
   ]
  },
  {
   "cell_type": "code",
   "execution_count": 2,
   "metadata": {},
   "outputs": [
    {
     "data": {
      "text/html": [
       "<div>\n",
       "<style scoped>\n",
       "    .dataframe tbody tr th:only-of-type {\n",
       "        vertical-align: middle;\n",
       "    }\n",
       "\n",
       "    .dataframe tbody tr th {\n",
       "        vertical-align: top;\n",
       "    }\n",
       "\n",
       "    .dataframe thead th {\n",
       "        text-align: right;\n",
       "    }\n",
       "</style>\n",
       "<table border=\"1\" class=\"dataframe\">\n",
       "  <thead>\n",
       "    <tr style=\"text-align: right;\">\n",
       "      <th></th>\n",
       "      <th>Unnamed: 0</th>\n",
       "      <th>custid</th>\n",
       "      <th>trade_no</th>\n",
       "      <th>bank_card_no</th>\n",
       "      <th>low_volume_percent</th>\n",
       "      <th>middle_volume_percent</th>\n",
       "      <th>take_amount_in_later_12_month_highest</th>\n",
       "      <th>trans_amount_increase_rate_lately</th>\n",
       "      <th>trans_activity_month</th>\n",
       "      <th>trans_activity_day</th>\n",
       "      <th>...</th>\n",
       "      <th>loans_max_limit</th>\n",
       "      <th>loans_avg_limit</th>\n",
       "      <th>consfin_credit_limit</th>\n",
       "      <th>consfin_credibility</th>\n",
       "      <th>consfin_org_count_current</th>\n",
       "      <th>consfin_product_count</th>\n",
       "      <th>consfin_max_limit</th>\n",
       "      <th>consfin_avg_limit</th>\n",
       "      <th>latest_query_day</th>\n",
       "      <th>loans_latest_day</th>\n",
       "    </tr>\n",
       "  </thead>\n",
       "  <tbody>\n",
       "    <tr>\n",
       "      <th>0</th>\n",
       "      <td>5</td>\n",
       "      <td>2791858</td>\n",
       "      <td>20180507115231274000000023057383</td>\n",
       "      <td>卡号1</td>\n",
       "      <td>0.01</td>\n",
       "      <td>0.99</td>\n",
       "      <td>0</td>\n",
       "      <td>0.90</td>\n",
       "      <td>0.55</td>\n",
       "      <td>0.313</td>\n",
       "      <td>...</td>\n",
       "      <td>2900.0</td>\n",
       "      <td>1688.0</td>\n",
       "      <td>1200.0</td>\n",
       "      <td>75.0</td>\n",
       "      <td>1.0</td>\n",
       "      <td>2.0</td>\n",
       "      <td>1200.0</td>\n",
       "      <td>1200.0</td>\n",
       "      <td>12.0</td>\n",
       "      <td>18.0</td>\n",
       "    </tr>\n",
       "    <tr>\n",
       "      <th>1</th>\n",
       "      <td>10</td>\n",
       "      <td>534047</td>\n",
       "      <td>20180507121002192000000023073000</td>\n",
       "      <td>卡号1</td>\n",
       "      <td>0.02</td>\n",
       "      <td>0.94</td>\n",
       "      <td>2000</td>\n",
       "      <td>1.28</td>\n",
       "      <td>1.00</td>\n",
       "      <td>0.458</td>\n",
       "      <td>...</td>\n",
       "      <td>3500.0</td>\n",
       "      <td>1758.0</td>\n",
       "      <td>15100.0</td>\n",
       "      <td>80.0</td>\n",
       "      <td>5.0</td>\n",
       "      <td>6.0</td>\n",
       "      <td>22800.0</td>\n",
       "      <td>9360.0</td>\n",
       "      <td>4.0</td>\n",
       "      <td>2.0</td>\n",
       "    </tr>\n",
       "    <tr>\n",
       "      <th>2</th>\n",
       "      <td>12</td>\n",
       "      <td>2849787</td>\n",
       "      <td>20180507125159718000000023114911</td>\n",
       "      <td>卡号1</td>\n",
       "      <td>0.04</td>\n",
       "      <td>0.96</td>\n",
       "      <td>0</td>\n",
       "      <td>1.00</td>\n",
       "      <td>1.00</td>\n",
       "      <td>0.114</td>\n",
       "      <td>...</td>\n",
       "      <td>1600.0</td>\n",
       "      <td>1250.0</td>\n",
       "      <td>4200.0</td>\n",
       "      <td>87.0</td>\n",
       "      <td>1.0</td>\n",
       "      <td>1.0</td>\n",
       "      <td>4200.0</td>\n",
       "      <td>4200.0</td>\n",
       "      <td>2.0</td>\n",
       "      <td>6.0</td>\n",
       "    </tr>\n",
       "    <tr>\n",
       "      <th>3</th>\n",
       "      <td>13</td>\n",
       "      <td>1809708</td>\n",
       "      <td>20180507121358683000000388283484</td>\n",
       "      <td>卡号1</td>\n",
       "      <td>0.00</td>\n",
       "      <td>0.96</td>\n",
       "      <td>2000</td>\n",
       "      <td>0.13</td>\n",
       "      <td>0.57</td>\n",
       "      <td>0.777</td>\n",
       "      <td>...</td>\n",
       "      <td>3200.0</td>\n",
       "      <td>1541.0</td>\n",
       "      <td>16300.0</td>\n",
       "      <td>80.0</td>\n",
       "      <td>5.0</td>\n",
       "      <td>5.0</td>\n",
       "      <td>30000.0</td>\n",
       "      <td>12180.0</td>\n",
       "      <td>2.0</td>\n",
       "      <td>4.0</td>\n",
       "    </tr>\n",
       "    <tr>\n",
       "      <th>4</th>\n",
       "      <td>14</td>\n",
       "      <td>2499829</td>\n",
       "      <td>20180507115448545000000388205844</td>\n",
       "      <td>卡号1</td>\n",
       "      <td>0.01</td>\n",
       "      <td>0.99</td>\n",
       "      <td>0</td>\n",
       "      <td>0.46</td>\n",
       "      <td>1.00</td>\n",
       "      <td>0.175</td>\n",
       "      <td>...</td>\n",
       "      <td>2300.0</td>\n",
       "      <td>1630.0</td>\n",
       "      <td>8300.0</td>\n",
       "      <td>79.0</td>\n",
       "      <td>2.0</td>\n",
       "      <td>2.0</td>\n",
       "      <td>8400.0</td>\n",
       "      <td>8250.0</td>\n",
       "      <td>22.0</td>\n",
       "      <td>120.0</td>\n",
       "    </tr>\n",
       "  </tbody>\n",
       "</table>\n",
       "<p>5 rows × 90 columns</p>\n",
       "</div>"
      ],
      "text/plain": [
       "   Unnamed: 0   custid                          trade_no bank_card_no  \\\n",
       "0           5  2791858  20180507115231274000000023057383          卡号1   \n",
       "1          10   534047  20180507121002192000000023073000          卡号1   \n",
       "2          12  2849787  20180507125159718000000023114911          卡号1   \n",
       "3          13  1809708  20180507121358683000000388283484          卡号1   \n",
       "4          14  2499829  20180507115448545000000388205844          卡号1   \n",
       "\n",
       "   low_volume_percent  middle_volume_percent  \\\n",
       "0                0.01                   0.99   \n",
       "1                0.02                   0.94   \n",
       "2                0.04                   0.96   \n",
       "3                0.00                   0.96   \n",
       "4                0.01                   0.99   \n",
       "\n",
       "   take_amount_in_later_12_month_highest  trans_amount_increase_rate_lately  \\\n",
       "0                                      0                               0.90   \n",
       "1                                   2000                               1.28   \n",
       "2                                      0                               1.00   \n",
       "3                                   2000                               0.13   \n",
       "4                                      0                               0.46   \n",
       "\n",
       "   trans_activity_month  trans_activity_day        ...         \\\n",
       "0                  0.55               0.313        ...          \n",
       "1                  1.00               0.458        ...          \n",
       "2                  1.00               0.114        ...          \n",
       "3                  0.57               0.777        ...          \n",
       "4                  1.00               0.175        ...          \n",
       "\n",
       "   loans_max_limit  loans_avg_limit  consfin_credit_limit  \\\n",
       "0           2900.0           1688.0                1200.0   \n",
       "1           3500.0           1758.0               15100.0   \n",
       "2           1600.0           1250.0                4200.0   \n",
       "3           3200.0           1541.0               16300.0   \n",
       "4           2300.0           1630.0                8300.0   \n",
       "\n",
       "   consfin_credibility  consfin_org_count_current  consfin_product_count  \\\n",
       "0                 75.0                        1.0                    2.0   \n",
       "1                 80.0                        5.0                    6.0   \n",
       "2                 87.0                        1.0                    1.0   \n",
       "3                 80.0                        5.0                    5.0   \n",
       "4                 79.0                        2.0                    2.0   \n",
       "\n",
       "   consfin_max_limit  consfin_avg_limit  latest_query_day  loans_latest_day  \n",
       "0             1200.0             1200.0              12.0              18.0  \n",
       "1            22800.0             9360.0               4.0               2.0  \n",
       "2             4200.0             4200.0               2.0               6.0  \n",
       "3            30000.0            12180.0               2.0               4.0  \n",
       "4             8400.0             8250.0              22.0             120.0  \n",
       "\n",
       "[5 rows x 90 columns]"
      ]
     },
     "execution_count": 2,
     "metadata": {},
     "output_type": "execute_result"
    }
   ],
   "source": [
    "data = pd.read_csv('data.csv', encoding = 'gbk')\n",
    "data.head()"
   ]
  },
  {
   "cell_type": "code",
   "execution_count": 3,
   "metadata": {},
   "outputs": [
    {
     "name": "stdout",
     "output_type": "stream",
     "text": [
      "['Unnamed: 0', 'custid', 'trade_no', 'bank_card_no', 'low_volume_percent', 'middle_volume_percent', 'take_amount_in_later_12_month_highest', 'trans_amount_increase_rate_lately', 'trans_activity_month', 'trans_activity_day', 'transd_mcc', 'trans_days_interval_filter', 'trans_days_interval', 'regional_mobility', 'student_feature', 'repayment_capability', 'is_high_user', 'number_of_trans_from_2011', 'first_transaction_time', 'historical_trans_amount', 'historical_trans_day', 'rank_trad_1_month', 'trans_amount_3_month', 'avg_consume_less_12_valid_month', 'abs', 'top_trans_count_last_1_month', 'avg_price_last_12_month', 'avg_price_top_last_12_valid_month', 'reg_preference_for_trad', 'trans_top_time_last_1_month', 'trans_top_time_last_6_month', 'consume_top_time_last_1_month', 'consume_top_time_last_6_month', 'cross_consume_count_last_1_month', 'trans_fail_top_count_enum_last_1_month', 'trans_fail_top_count_enum_last_6_month', 'trans_fail_top_count_enum_last_12_month', 'consume_mini_time_last_1_month', 'max_cumulative_consume_later_1_month', 'max_consume_count_later_6_month', 'railway_consume_count_last_12_month', 'pawns_auctions_trusts_consume_last_1_month', 'pawns_auctions_trusts_consume_last_6_month', 'jewelry_consume_count_last_6_month', 'status', 'source', 'first_transaction_day', 'trans_day_last_12_month', 'id_name', 'apply_score', 'apply_credibility', 'query_org_count', 'query_finance_count', 'query_cash_count', 'query_sum_count', 'latest_query_time', 'latest_one_month_apply', 'latest_three_month_apply', 'latest_six_month_apply', 'loans_score', 'loans_credibility_behavior', 'loans_count', 'loans_settle_count', 'loans_overdue_count', 'loans_org_count_behavior', 'consfin_org_count_behavior', 'loans_cash_count', 'latest_one_month_loan', 'latest_three_month_loan', 'latest_six_month_loan', 'history_suc_fee', 'history_fail_fee', 'latest_one_month_suc', 'latest_one_month_fail', 'loans_long_time', 'loans_latest_time', 'loans_credit_limit', 'loans_credibility_limit', 'loans_org_count_current', 'loans_product_count', 'loans_max_limit', 'loans_avg_limit', 'consfin_credit_limit', 'consfin_credibility', 'consfin_org_count_current', 'consfin_product_count', 'consfin_max_limit', 'consfin_avg_limit', 'latest_query_day', 'loans_latest_day']\n"
     ]
    }
   ],
   "source": [
    "features = data.columns.tolist()\n",
    "print(features)"
   ]
  },
  {
   "cell_type": "code",
   "execution_count": 4,
   "metadata": {},
   "outputs": [
    {
     "data": {
      "text/plain": [
       "Unnamed: 0                                 int64\n",
       "custid                                     int64\n",
       "trade_no                                  object\n",
       "bank_card_no                              object\n",
       "low_volume_percent                       float64\n",
       "middle_volume_percent                    float64\n",
       "take_amount_in_later_12_month_highest      int64\n",
       "trans_amount_increase_rate_lately        float64\n",
       "trans_activity_month                     float64\n",
       "trans_activity_day                       float64\n",
       "transd_mcc                               float64\n",
       "trans_days_interval_filter               float64\n",
       "trans_days_interval                      float64\n",
       "regional_mobility                        float64\n",
       "student_feature                          float64\n",
       "repayment_capability                       int64\n",
       "is_high_user                               int64\n",
       "number_of_trans_from_2011                float64\n",
       "first_transaction_time                   float64\n",
       "historical_trans_amount                    int64\n",
       "historical_trans_day                     float64\n",
       "rank_trad_1_month                        float64\n",
       "trans_amount_3_month                       int64\n",
       "avg_consume_less_12_valid_month          float64\n",
       "abs                                        int64\n",
       "top_trans_count_last_1_month             float64\n",
       "avg_price_last_12_month                    int64\n",
       "avg_price_top_last_12_valid_month        float64\n",
       "reg_preference_for_trad                   object\n",
       "trans_top_time_last_1_month              float64\n",
       "                                          ...   \n",
       "loans_credibility_behavior               float64\n",
       "loans_count                              float64\n",
       "loans_settle_count                       float64\n",
       "loans_overdue_count                      float64\n",
       "loans_org_count_behavior                 float64\n",
       "consfin_org_count_behavior               float64\n",
       "loans_cash_count                         float64\n",
       "latest_one_month_loan                    float64\n",
       "latest_three_month_loan                  float64\n",
       "latest_six_month_loan                    float64\n",
       "history_suc_fee                          float64\n",
       "history_fail_fee                         float64\n",
       "latest_one_month_suc                     float64\n",
       "latest_one_month_fail                    float64\n",
       "loans_long_time                          float64\n",
       "loans_latest_time                         object\n",
       "loans_credit_limit                       float64\n",
       "loans_credibility_limit                  float64\n",
       "loans_org_count_current                  float64\n",
       "loans_product_count                      float64\n",
       "loans_max_limit                          float64\n",
       "loans_avg_limit                          float64\n",
       "consfin_credit_limit                     float64\n",
       "consfin_credibility                      float64\n",
       "consfin_org_count_current                float64\n",
       "consfin_product_count                    float64\n",
       "consfin_max_limit                        float64\n",
       "consfin_avg_limit                        float64\n",
       "latest_query_day                         float64\n",
       "loans_latest_day                         float64\n",
       "Length: 90, dtype: object"
      ]
     },
     "execution_count": 4,
     "metadata": {},
     "output_type": "execute_result"
    }
   ],
   "source": [
    "data[features].dtypes"
   ]
  },
  {
   "cell_type": "code",
   "execution_count": null,
   "metadata": {},
   "outputs": [],
   "source": [
    "#train['OverallQual'].dtypes"
   ]
  },
  {
   "cell_type": "code",
   "execution_count": 5,
   "metadata": {},
   "outputs": [
    {
     "data": {
      "text/plain": [
       "0    一线城市\n",
       "1    一线城市\n",
       "2    一线城市\n",
       "3    三线城市\n",
       "4    一线城市\n",
       "Name: reg_preference_for_trad, dtype: object"
      ]
     },
     "execution_count": 5,
     "metadata": {},
     "output_type": "execute_result"
    }
   ],
   "source": [
    "data['reg_preference_for_trad'].head()"
   ]
  },
  {
   "cell_type": "code",
   "execution_count": 6,
   "metadata": {},
   "outputs": [
    {
     "data": {
      "text/plain": [
       "(4754, 90)"
      ]
     },
     "execution_count": 6,
     "metadata": {},
     "output_type": "execute_result"
    }
   ],
   "source": [
    "data.shape"
   ]
  },
  {
   "cell_type": "code",
   "execution_count": 7,
   "metadata": {},
   "outputs": [
    {
     "data": {
      "text/plain": [
       "student_feature                               2998\n",
       "cross_consume_count_last_1_month               426\n",
       "apply_credibility                              304\n",
       "query_cash_count                               304\n",
       "latest_six_month_apply                         304\n",
       "latest_three_month_apply                       304\n",
       "latest_query_time                              304\n",
       "query_sum_count                                304\n",
       "latest_one_month_apply                         304\n",
       "query_finance_count                            304\n",
       "query_org_count                                304\n",
       "apply_score                                    304\n",
       "latest_query_day                               304\n",
       "latest_one_month_loan                          297\n",
       "loans_score                                    297\n",
       "loans_credibility_behavior                     297\n",
       "loans_count                                    297\n",
       "loans_settle_count                             297\n",
       "loans_overdue_count                            297\n",
       "loans_org_count_behavior                       297\n",
       "consfin_org_count_behavior                     297\n",
       "loans_cash_count                               297\n",
       "loans_latest_day                               297\n",
       "latest_three_month_loan                        297\n",
       "loans_product_count                            297\n",
       "consfin_max_limit                              297\n",
       "latest_six_month_loan                          297\n",
       "consfin_product_count                          297\n",
       "consfin_org_count_current                      297\n",
       "consfin_credibility                            297\n",
       "                                              ... \n",
       "transd_mcc                                       2\n",
       "trans_activity_day                               2\n",
       "number_of_trans_from_2011                        2\n",
       "first_transaction_time                           2\n",
       "trans_activity_month                             2\n",
       "historical_trans_day                             2\n",
       "low_volume_percent                               2\n",
       "avg_consume_less_12_valid_month                  2\n",
       "top_trans_count_last_1_month                     2\n",
       "middle_volume_percent                            2\n",
       "trans_day_last_12_month                          2\n",
       "reg_preference_for_trad                          2\n",
       "first_transaction_day                            2\n",
       "trans_days_interval                              2\n",
       "bank_card_no                                     0\n",
       "take_amount_in_later_12_month_highest            0\n",
       "custid                                           0\n",
       "trade_no                                         0\n",
       "status                                           0\n",
       "repayment_capability                             0\n",
       "is_high_user                                     0\n",
       "historical_trans_amount                          0\n",
       "trans_amount_3_month                             0\n",
       "abs                                              0\n",
       "avg_price_last_12_month                          0\n",
       "max_cumulative_consume_later_1_month             0\n",
       "pawns_auctions_trusts_consume_last_1_month       0\n",
       "pawns_auctions_trusts_consume_last_6_month       0\n",
       "source                                           0\n",
       "Unnamed: 0                                       0\n",
       "Length: 90, dtype: int64"
      ]
     },
     "execution_count": 7,
     "metadata": {},
     "output_type": "execute_result"
    }
   ],
   "source": [
    "data[features].isnull().sum().sort_values(ascending=False)"
   ]
  },
  {
   "cell_type": "code",
   "execution_count": 8,
   "metadata": {},
   "outputs": [
    {
     "data": {
      "text/plain": [
       "student_feature                               0.630760\n",
       "cross_consume_count_last_1_month              0.089628\n",
       "apply_credibility                             0.063960\n",
       "query_cash_count                              0.063960\n",
       "latest_six_month_apply                        0.063960\n",
       "latest_three_month_apply                      0.063960\n",
       "latest_query_time                             0.063960\n",
       "query_sum_count                               0.063960\n",
       "latest_one_month_apply                        0.063960\n",
       "query_finance_count                           0.063960\n",
       "query_org_count                               0.063960\n",
       "apply_score                                   0.063960\n",
       "latest_query_day                              0.063960\n",
       "latest_one_month_loan                         0.062487\n",
       "loans_score                                   0.062487\n",
       "loans_credibility_behavior                    0.062487\n",
       "loans_count                                   0.062487\n",
       "loans_settle_count                            0.062487\n",
       "loans_overdue_count                           0.062487\n",
       "loans_org_count_behavior                      0.062487\n",
       "consfin_org_count_behavior                    0.062487\n",
       "loans_cash_count                              0.062487\n",
       "loans_latest_day                              0.062487\n",
       "latest_three_month_loan                       0.062487\n",
       "loans_product_count                           0.062487\n",
       "consfin_max_limit                             0.062487\n",
       "latest_six_month_loan                         0.062487\n",
       "consfin_product_count                         0.062487\n",
       "consfin_org_count_current                     0.062487\n",
       "consfin_credibility                           0.062487\n",
       "                                                ...   \n",
       "transd_mcc                                    0.000421\n",
       "trans_activity_day                            0.000421\n",
       "number_of_trans_from_2011                     0.000421\n",
       "first_transaction_time                        0.000421\n",
       "trans_activity_month                          0.000421\n",
       "historical_trans_day                          0.000421\n",
       "low_volume_percent                            0.000421\n",
       "avg_consume_less_12_valid_month               0.000421\n",
       "top_trans_count_last_1_month                  0.000421\n",
       "middle_volume_percent                         0.000421\n",
       "trans_day_last_12_month                       0.000421\n",
       "reg_preference_for_trad                       0.000421\n",
       "first_transaction_day                         0.000421\n",
       "trans_days_interval                           0.000421\n",
       "bank_card_no                                  0.000000\n",
       "take_amount_in_later_12_month_highest         0.000000\n",
       "custid                                        0.000000\n",
       "trade_no                                      0.000000\n",
       "status                                        0.000000\n",
       "repayment_capability                          0.000000\n",
       "is_high_user                                  0.000000\n",
       "historical_trans_amount                       0.000000\n",
       "trans_amount_3_month                          0.000000\n",
       "abs                                           0.000000\n",
       "avg_price_last_12_month                       0.000000\n",
       "max_cumulative_consume_later_1_month          0.000000\n",
       "pawns_auctions_trusts_consume_last_1_month    0.000000\n",
       "pawns_auctions_trusts_consume_last_6_month    0.000000\n",
       "source                                        0.000000\n",
       "Unnamed: 0                                    0.000000\n",
       "Length: 90, dtype: float64"
      ]
     },
     "execution_count": 8,
     "metadata": {},
     "output_type": "execute_result"
    }
   ],
   "source": [
    "data[features].isnull().sum().sort_values(ascending=False)/4753"
   ]
  },
  {
   "cell_type": "code",
   "execution_count": 13,
   "metadata": {},
   "outputs": [],
   "source": [
    "data.drop(\"student_feature\", axis = 1, inplace = True)    #删除缺失值过多的列"
   ]
  },
  {
   "cell_type": "code",
   "execution_count": 16,
   "metadata": {},
   "outputs": [],
   "source": [
    "data.drop(\"bank_card_no\", axis = 1, inplace = True)"
   ]
  },
  {
   "cell_type": "code",
   "execution_count": 15,
   "metadata": {},
   "outputs": [],
   "source": [
    "data.drop(\"id_name\", axis = 1, inplace = True)"
   ]
  },
  {
   "cell_type": "code",
   "execution_count": 21,
   "metadata": {},
   "outputs": [
    {
     "data": {
      "text/plain": [
       "0.9890595413423101"
      ]
     },
     "execution_count": 21,
     "metadata": {},
     "output_type": "execute_result"
    }
   ],
   "source": [
    "list(data['is_high_user']).count(0)"
   ]
  },
  {
   "cell_type": "code",
   "execution_count": null,
   "metadata": {},
   "outputs": [],
   "source": []
  },
  {
   "cell_type": "code",
   "execution_count": null,
   "metadata": {},
   "outputs": [],
   "source": []
  }
 ],
 "metadata": {
  "kernelspec": {
   "display_name": "Python 3",
   "language": "python",
   "name": "python3"
  },
  "language_info": {
   "codemirror_mode": {
    "name": "ipython",
    "version": 3
   },
   "file_extension": ".py",
   "mimetype": "text/x-python",
   "name": "python",
   "nbconvert_exporter": "python",
   "pygments_lexer": "ipython3",
   "version": "3.6.5"
  }
 },
 "nbformat": 4,
 "nbformat_minor": 2
}
